{
  "nbformat": 4,
  "nbformat_minor": 0,
  "metadata": {
    "colab": {
      "provenance": [],
      "authorship_tag": "ABX9TyPpfNMVQ7x67ZRsfvxy/jjh",
      "include_colab_link": true
    },
    "kernelspec": {
      "name": "python3",
      "display_name": "Python 3"
    },
    "language_info": {
      "name": "python"
    }
  },
  "cells": [
    {
      "cell_type": "markdown",
      "metadata": {
        "id": "view-in-github",
        "colab_type": "text"
      },
      "source": [
        "<a href=\"https://colab.research.google.com/github/giuseppedonatellis/python-training/blob/main/Day06_io.ipynb\" target=\"_parent\"><img src=\"https://colab.research.google.com/assets/colab-badge.svg\" alt=\"Open In Colab\"/></a>"
      ]
    },
    {
      "cell_type": "code",
      "execution_count": 1,
      "metadata": {
        "colab": {
          "base_uri": "https://localhost:8080/"
        },
        "id": "qghIUBCkrsAC",
        "outputId": "74356275-1ecb-4502-89b8-75230df13265"
      },
      "outputs": [
        {
          "output_type": "stream",
          "name": "stdout",
          "text": [
            "Creato species.txt\n"
          ]
        }
      ],
      "source": [
        "contenuto = \"\"\"# Elenco specie\n",
        "Canis lupus\n",
        "Vulpes vulpes\n",
        "\n",
        "Ursus arctos\n",
        "Cervus elaphus\n",
        "Capreolus capreolus\n",
        "Sus scrofa\n",
        "\"\"\"\n",
        "\n",
        "with open(\"species.txt\", \"w\", encoding=\"utf-8\") as f:\n",
        "    f.write(contenuto)\n",
        "\n",
        "print(\"Creato species.txt\")"
      ]
    },
    {
      "cell_type": "code",
      "source": [
        "with open(\"species.txt\", \"r\", encoding=\"utf-8\") as f:\n",
        "    righe = f.readlines()\n",
        "\n",
        "print(\"Contenuto grezzo:\", righe)"
      ],
      "metadata": {
        "colab": {
          "base_uri": "https://localhost:8080/"
        },
        "id": "e_5nw8CcsSUM",
        "outputId": "0446739e-fd18-4962-bf54-68b71cf47cf3"
      },
      "execution_count": 2,
      "outputs": [
        {
          "output_type": "stream",
          "name": "stdout",
          "text": [
            "Contenuto grezzo: ['# Elenco specie\\n', 'Canis lupus\\n', 'Vulpes vulpes\\n', '\\n', 'Ursus arctos\\n', 'Cervus elaphus\\n', 'Capreolus capreolus\\n', 'Sus scrofa\\n']\n"
          ]
        }
      ]
    },
    {
      "cell_type": "code",
      "source": [
        "specie = []\n",
        "for r in righe:\n",
        "    r = r.strip()           # tolgo spazi vuoti\n",
        "    if not r:               # salto righe vuote\n",
        "        continue\n",
        "    if r.startswith(\"#\"):   # salto righe-commento\n",
        "        continue\n",
        "    specie.append(r)\n",
        "\n",
        "print(\"Specie pulite:\", specie)"
      ],
      "metadata": {
        "colab": {
          "base_uri": "https://localhost:8080/"
        },
        "id": "lhrElA20sr_6",
        "outputId": "9030c89b-79f9-4399-9fd0-0bc10820912f"
      },
      "execution_count": 3,
      "outputs": [
        {
          "output_type": "stream",
          "name": "stdout",
          "text": [
            "Specie pulite: ['Canis lupus', 'Vulpes vulpes', 'Ursus arctos', 'Cervus elaphus', 'Capreolus capreolus', 'Sus scrofa']\n"
          ]
        }
      ]
    },
    {
      "cell_type": "code",
      "source": [
        "for i, nome in enumerate(specie, start=1):\n",
        "    print(f\"{i}. {nome}\")"
      ],
      "metadata": {
        "colab": {
          "base_uri": "https://localhost:8080/"
        },
        "id": "dqzluwX6swS6",
        "outputId": "7348935f-bbc7-4714-9162-75e7be829ddc"
      },
      "execution_count": 4,
      "outputs": [
        {
          "output_type": "stream",
          "name": "stdout",
          "text": [
            "1. Canis lupus\n",
            "2. Vulpes vulpes\n",
            "3. Ursus arctos\n",
            "4. Cervus elaphus\n",
            "5. Capreolus capreolus\n",
            "6. Sus scrofa\n"
          ]
        }
      ]
    },
    {
      "cell_type": "code",
      "source": [],
      "metadata": {
        "id": "qiCRKoVSs2wa"
      },
      "execution_count": null,
      "outputs": []
    }
  ]
}