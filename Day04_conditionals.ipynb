{
  "nbformat": 4,
  "nbformat_minor": 0,
  "metadata": {
    "colab": {
      "provenance": [],
      "authorship_tag": "ABX9TyPHCjAf2kj5489/cbuQWKRC",
      "include_colab_link": true
    },
    "kernelspec": {
      "name": "python3",
      "display_name": "Python 3"
    },
    "language_info": {
      "name": "python"
    }
  },
  "cells": [
    {
      "cell_type": "markdown",
      "metadata": {
        "id": "view-in-github",
        "colab_type": "text"
      },
      "source": [
        "<a href=\"https://colab.research.google.com/github/giuseppedonatellis/python-training/blob/main/Day04_conditionals.ipynb\" target=\"_parent\"><img src=\"https://colab.research.google.com/assets/colab-badge.svg\" alt=\"Open In Colab\"/></a>"
      ]
    },
    {
      "cell_type": "code",
      "execution_count": 1,
      "metadata": {
        "colab": {
          "base_uri": "https://localhost:8080/"
        },
        "id": "CEa0WRUHkR6Q",
        "outputId": "e933bea3-5b4a-42a8-b0cb-11366f5e35e2"
      },
      "outputs": [
        {
          "output_type": "stream",
          "name": "stdout",
          "text": [
            "0 → Dato non valido / estinta\n",
            "10 → In pericolo critico\n",
            "120 → In pericolo\n",
            "700 → Vulnerabile\n",
            "5000 → Basso rischio\n"
          ]
        }
      ],
      "source": [
        "def classifica_rischio(pop: int) -> str:\n",
        "    \"\"\"Restituisce una categoria di rischio in base alla popolazione (soglie didattiche).\"\"\"\n",
        "    if pop is None or pop <= 0:\n",
        "        return 'Dato non valido / estinta'\n",
        "    elif pop <= 50:\n",
        "        return 'In pericolo critico'\n",
        "    elif pop <= 250:\n",
        "        return 'In pericolo'\n",
        "    elif pop <= 1000:\n",
        "        return 'Vulnerabile'\n",
        "    else:\n",
        "        return 'Basso rischio'\n",
        "\n",
        "# Test rapidi\n",
        "for p in [0, 10, 120, 700, 5000]:\n",
        "    print(p, '→', classifica_rischio(p))"
      ]
    },
    {
      "cell_type": "code",
      "source": [
        "specie = input('Nome specie: ').strip()\n",
        "try:\n",
        "    pop = int(input('Popolazione stimata (numero intero): ').strip())\n",
        "except ValueError:\n",
        "    print('Errore: inserisci un numero intero valido.')\n",
        "else:\n",
        "    print(f\"Specie: {specie} → {classifica_rischio(pop)}\")"
      ],
      "metadata": {
        "colab": {
          "base_uri": "https://localhost:8080/"
        },
        "id": "afJTBl3OmV0p",
        "outputId": "d46093b6-13ca-4713-bba0-ec7867443776"
      },
      "execution_count": 2,
      "outputs": [
        {
          "output_type": "stream",
          "name": "stdout",
          "text": [
            "Nome specie: 10\n",
            "Popolazione stimata (numero intero): 45\n",
            "Specie: 10 → In pericolo critico\n"
          ]
        }
      ]
    },
    {
      "cell_type": "code",
      "source": [
        "specie_pop = {\n",
        "    'lupo': 120,\n",
        "    'orso': 45,\n",
        "    'volpe': 2200,\n",
        "    'cervo': 900\n",
        "}\n",
        "\n",
        "report = {}\n",
        "for nome, pop in specie_pop.items():\n",
        "    report[nome] = classifica_rischio(pop)\n",
        "\n",
        "for nome, cat in report.items():\n",
        "    print(f\"{nome}: {cat}\")"
      ],
      "metadata": {
        "colab": {
          "base_uri": "https://localhost:8080/"
        },
        "id": "d_zifgigmir3",
        "outputId": "0a58166a-e469-4f2d-ac04-25a444e278b8"
      },
      "execution_count": 3,
      "outputs": [
        {
          "output_type": "stream",
          "name": "stdout",
          "text": [
            "lupo: In pericolo\n",
            "orso: In pericolo critico\n",
            "volpe: Basso rischio\n",
            "cervo: Vulnerabile\n"
          ]
        }
      ]
    },
    {
      "cell_type": "code",
      "source": [
        "def classifica_rischio_custom(pop: int) -> str:\n",
        "    if pop is None or pop < 0:\n",
        "        return 'Dato non valido'\n",
        "    # Personalizza qui le soglie\n",
        "    if pop <= 30:\n",
        "        return 'In pericolo critico'\n",
        "    elif pop <= 200:\n",
        "        return 'In pericolo'\n",
        "    elif pop <= 1500:\n",
        "        return 'Vulnerabile'\n",
        "    else:\n",
        "        return 'Basso rischio'\n",
        "\n",
        "specie_pop2 = {'aquila': 25, 'tasso': 350, 'lince': 80, 'cinghiale': 5000}\n",
        "for nome, pop in specie_pop2.items():\n",
        "    cat = classifica_rischio_custom(pop)\n",
        "    if cat in ('In pericolo', 'In pericolo critico'):\n",
        "        print(f\"{nome}: {cat} ({pop})\")"
      ],
      "metadata": {
        "colab": {
          "base_uri": "https://localhost:8080/"
        },
        "id": "MRPvock7m1vJ",
        "outputId": "c8a53a93-4e4d-40eb-88d2-1d291ae241c6"
      },
      "execution_count": 4,
      "outputs": [
        {
          "output_type": "stream",
          "name": "stdout",
          "text": [
            "aquila: In pericolo critico (25)\n",
            "lince: In pericolo (80)\n"
          ]
        }
      ]
    },
    {
      "cell_type": "code",
      "source": [],
      "metadata": {
        "id": "Zk5w0t8Bm6Nv"
      },
      "execution_count": null,
      "outputs": []
    }
  ]
}