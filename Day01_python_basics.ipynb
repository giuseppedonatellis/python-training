{
  "nbformat": 4,
  "nbformat_minor": 0,
  "metadata": {
    "colab": {
      "provenance": [],
      "authorship_tag": "ABX9TyNe05Xt+5uqrUbd3XW+lEV3",
      "include_colab_link": true
    },
    "kernelspec": {
      "name": "python3",
      "display_name": "Python 3"
    },
    "language_info": {
      "name": "python"
    }
  },
  "cells": [
    {
      "cell_type": "markdown",
      "metadata": {
        "id": "view-in-github",
        "colab_type": "text"
      },
      "source": [
        "<a href=\"https://colab.research.google.com/github/giuseppedonatellis/python-training/blob/main/Day01_python_basics.ipynb\" target=\"_parent\"><img src=\"https://colab.research.google.com/assets/colab-badge.svg\" alt=\"Open In Colab\"/></a>"
      ]
    },
    {
      "cell_type": "code",
      "source": [
        "# Day 1 — Variabili e Tipi in Python\n",
        "\n",
        "# == Obiettivi di oggi ==\n",
        "# - Sapere cos'è una variabile e come si assegna un valore\n",
        "# - Conoscere i tipi base: int, float, str, bool\n",
        "# - Usare type() e le conversioni (int(), float(), str())\n",
        "# - Fare operazioni aritmetiche e lavorare con stringhe\n",
        "\n",
        "# 1. Variabili\n",
        "conteggio = 42          # int\n",
        "temperatura = 21.5      # float\n",
        "specie = 'Quercus ilex' # str\n",
        "raro = True             # bool\n",
        "\n",
        "print(conteggio, type(conteggio))\n",
        "print(temperatura, type(temperatura))\n",
        "print(specie, type(specie))\n",
        "print(raro, type(raro))\n",
        "\n",
        "# 2. Conversioni\n",
        "x = '10'\n",
        "y = 3.14\n",
        "print(int(x) + 5)   # string → int\n",
        "print(float('2.5')) # string → float\n",
        "print(str(99))      # numero → string\n",
        "print(int(float('10.0'))) # attenzione ai decimali\n",
        "\n",
        "# 3. Operatori aritmetici\n",
        "a, b = 7, 3\n",
        "print(a+b, a-b, a*b, a/b, a//b, a%b, a**b)\n",
        "\n",
        "individui = 250\n",
        "area_ha = 12.5\n",
        "densita = individui / area_ha\n",
        "print('densità =', round(densita, 2), 'ind/ha')\n",
        "\n",
        "# 4. Stringhe\n",
        "nome = '   pinus pinea   '\n",
        "print(len(nome))\n",
        "print(nome.strip())\n",
        "print(nome.strip().upper())\n",
        "\n",
        "genere, specie = 'Quercus ilex'.split(' ')\n",
        "print(genere, specie)\n",
        "\n",
        "print('-'.join(['GIS', 'Python', 'Geodata']))\n",
        "n_ind = 58\n",
        "habitat = 'macchia mediterranea'\n",
        "print(f'Nell\\'habitat {habitat} ho contato {n_ind} individui.')\n",
        "\n",
        "# 5. ESERCIZI\n",
        "# 1. Crea tre variabili e stampale con f-string\n",
        "specie_nome = \"Bos taurus\"\n",
        "n_ind = 23\n",
        "biomassa_kg = 545.7\n",
        "print(f\"Specie {specie_nome}, individui {n_ind}, biomassa {biomassa_kg} kg\")\n",
        "\n",
        "# 2. Calcola densità\n",
        "n_ind = 375\n",
        "area_ha = 9\n",
        "densita = round(n_ind / area_ha, 1)\n",
        "print(\"densità:\", densita)\n",
        "\n",
        "# 3. Trasforma '42' in int e somma 8\n",
        "print(int('42') + 8)\n",
        "\n",
        "# 4. Stampa solo il genere da 'Helichrysum italicum'\n",
        "taxon = 'Helichrysum italicum'\n",
        "print(taxon.split(' ')[0])"
      ],
      "metadata": {
        "colab": {
          "base_uri": "https://localhost:8080/"
        },
        "id": "WeCcDAP0BZfc",
        "outputId": "f48a4b1b-4a4e-45ee-c5fe-1d1b9afe1a93"
      },
      "execution_count": null,
      "outputs": [
        {
          "output_type": "stream",
          "name": "stdout",
          "text": [
            "42 <class 'int'>\n",
            "21.5 <class 'float'>\n",
            "Quercus ilex <class 'str'>\n",
            "True <class 'bool'>\n",
            "15\n",
            "2.5\n",
            "99\n",
            "10\n",
            "10 4 21 2.3333333333333335 2 1 343\n",
            "densità = 20.0 ind/ha\n",
            "17\n",
            "pinus pinea\n",
            "PINUS PINEA\n",
            "Quercus ilex\n",
            "GIS-Python-Geodata\n",
            "Nell'habitat macchia mediterranea ho contato 58 individui.\n",
            "Specie Bos taurus, individui 23, biomassa 545.7 kg\n",
            "densità: 41.7\n",
            "50\n",
            "Helichrysum\n"
          ]
        }
      ]
    }
  ]
}