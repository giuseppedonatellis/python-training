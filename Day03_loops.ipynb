{
  "nbformat": 4,
  "nbformat_minor": 0,
  "metadata": {
    "colab": {
      "provenance": [],
      "authorship_tag": "ABX9TyP95WN+OdF28wjd0QwQJwns",
      "include_colab_link": true
    },
    "kernelspec": {
      "name": "python3",
      "display_name": "Python 3"
    },
    "language_info": {
      "name": "python"
    }
  },
  "cells": [
    {
      "cell_type": "markdown",
      "metadata": {
        "id": "view-in-github",
        "colab_type": "text"
      },
      "source": [
        "<a href=\"https://colab.research.google.com/github/giuseppedonatellis/python-training/blob/main/Day03_loops.ipynb\" target=\"_parent\"><img src=\"https://colab.research.google.com/assets/colab-badge.svg\" alt=\"Open In Colab\"/></a>"
      ]
    },
    {
      "cell_type": "code",
      "execution_count": 1,
      "metadata": {
        "colab": {
          "base_uri": "https://localhost:8080/"
        },
        "id": "ermIr-kpwiDh",
        "outputId": "2542633f-99b6-44a3-f318-1380a95dc79b"
      },
      "outputs": [
        {
          "output_type": "stream",
          "name": "stdout",
          "text": [
            "0\n",
            "1\n",
            "2\n",
            "3\n",
            "4\n"
          ]
        }
      ],
      "source": [
        "for i in range(5):\n",
        "    print(i)"
      ]
    },
    {
      "cell_type": "code",
      "source": [
        "x = 0\n",
        "while x < 5:\n",
        "    print(x)\n",
        "    x += 1   # incremento"
      ],
      "metadata": {
        "colab": {
          "base_uri": "https://localhost:8080/"
        },
        "id": "kqwWKN9jwqfl",
        "outputId": "ff584705-e659-4554-b427-ae9200576c8d"
      },
      "execution_count": 2,
      "outputs": [
        {
          "output_type": "stream",
          "name": "stdout",
          "text": [
            "0\n",
            "1\n",
            "2\n",
            "3\n",
            "4\n"
          ]
        }
      ]
    },
    {
      "cell_type": "code",
      "source": [
        "# Ciclo for con lista\n",
        "specie = [\"lupo\", \"volpe\", \"orso\"]\n",
        "for animale in specie:\n",
        "    print(\"Specie:\", animale)\n",
        "\n",
        "# Ciclo for con numeri\n",
        "for n in range(1, 6):  # da 1 a 5\n",
        "    print(n)\n",
        "\n",
        "# Ciclo while\n",
        "contatore = 1\n",
        "while contatore <= 5:\n",
        "    print(\"Valore:\", contatore)\n",
        "    contatore += 1"
      ],
      "metadata": {
        "colab": {
          "base_uri": "https://localhost:8080/"
        },
        "id": "q6jsdSs8wu4M",
        "outputId": "73eeedea-070d-4407-8409-8995def7e2a4"
      },
      "execution_count": 3,
      "outputs": [
        {
          "output_type": "stream",
          "name": "stdout",
          "text": [
            "Specie: lupo\n",
            "Specie: volpe\n",
            "Specie: orso\n",
            "1\n",
            "2\n",
            "3\n",
            "4\n",
            "5\n",
            "Valore: 1\n",
            "Valore: 2\n",
            "Valore: 3\n",
            "Valore: 4\n",
            "Valore: 5\n"
          ]
        }
      ]
    },
    {
      "cell_type": "code",
      "source": [
        "# Stampa numeri da 1 a 20\n",
        "for n in range(1, 21):\n",
        "    print(n)\n",
        "\n",
        "print(\"--- Solo pari ---\")\n",
        "# Stampa solo i pari\n",
        "for n in range(1, 21):\n",
        "    if n % 2 == 0:   # % è il resto della divisione\n",
        "        print(n)"
      ],
      "metadata": {
        "colab": {
          "base_uri": "https://localhost:8080/"
        },
        "id": "9ujymBZKw1s8",
        "outputId": "df825394-d593-46c2-8127-90876493ff0c"
      },
      "execution_count": 4,
      "outputs": [
        {
          "output_type": "stream",
          "name": "stdout",
          "text": [
            "1\n",
            "2\n",
            "3\n",
            "4\n",
            "5\n",
            "6\n",
            "7\n",
            "8\n",
            "9\n",
            "10\n",
            "11\n",
            "12\n",
            "13\n",
            "14\n",
            "15\n",
            "16\n",
            "17\n",
            "18\n",
            "19\n",
            "20\n",
            "--- Solo pari ---\n",
            "2\n",
            "4\n",
            "6\n",
            "8\n",
            "10\n",
            "12\n",
            "14\n",
            "16\n",
            "18\n",
            "20\n"
          ]
        }
      ]
    },
    {
      "cell_type": "code",
      "source": [
        "n = 1\n",
        "while n <= 20:\n",
        "    if n % 2 == 0:\n",
        "        print(n)\n",
        "    n += 1"
      ],
      "metadata": {
        "colab": {
          "base_uri": "https://localhost:8080/"
        },
        "id": "U2cOghiQw5pc",
        "outputId": "642e7ad1-fc16-4a6e-8e75-e18021ba0393"
      },
      "execution_count": 5,
      "outputs": [
        {
          "output_type": "stream",
          "name": "stdout",
          "text": [
            "2\n",
            "4\n",
            "6\n",
            "8\n",
            "10\n",
            "12\n",
            "14\n",
            "16\n",
            "18\n",
            "20\n"
          ]
        }
      ]
    },
    {
      "cell_type": "code",
      "source": [],
      "metadata": {
        "id": "v9T7X_miw-tD"
      },
      "execution_count": null,
      "outputs": []
    }
  ]
}