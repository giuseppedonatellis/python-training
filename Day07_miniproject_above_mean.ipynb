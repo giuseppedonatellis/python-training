{
  "nbformat": 4,
  "nbformat_minor": 0,
  "metadata": {
    "colab": {
      "provenance": [],
      "authorship_tag": "ABX9TyMeGtzlz9pfxtTz8zWOA61f",
      "include_colab_link": true
    },
    "kernelspec": {
      "name": "python3",
      "display_name": "Python 3"
    },
    "language_info": {
      "name": "python"
    }
  },
  "cells": [
    {
      "cell_type": "markdown",
      "metadata": {
        "id": "view-in-github",
        "colab_type": "text"
      },
      "source": [
        "<a href=\"https://colab.research.google.com/github/giuseppedonatellis/python-training/blob/main/Day07_miniproject_above_mean.ipynb\" target=\"_parent\"><img src=\"https://colab.research.google.com/assets/colab-badge.svg\" alt=\"Open In Colab\"/></a>"
      ]
    },
    {
      "cell_type": "code",
      "execution_count": 1,
      "metadata": {
        "colab": {
          "base_uri": "https://localhost:8080/"
        },
        "id": "QcSCObPauZ9z",
        "outputId": "7abed59b-c7b4-466c-ddbb-190cb9b6a326"
      },
      "outputs": [
        {
          "output_type": "stream",
          "name": "stdout",
          "text": [
            "{'lupo': 15, 'volpe': 22, 'orso': 7, 'cervo': 30, 'cinghiale': 55, 'tasso': 12}\n"
          ]
        }
      ],
      "source": [
        "specie_ab = {\n",
        "    \"lupo\": 15,\n",
        "    \"volpe\": 22,\n",
        "    \"orso\": 7,\n",
        "    \"cervo\": 30,\n",
        "    \"cinghiale\": 55,\n",
        "    \"tasso\": 12\n",
        "}\n",
        "print(specie_ab)"
      ]
    },
    {
      "cell_type": "code",
      "source": [
        "valori = list(specie_ab.values())\n",
        "media = sum(valori) / len(valori)\n",
        "\n",
        "print(\"Media abbondanza:\", media)"
      ],
      "metadata": {
        "colab": {
          "base_uri": "https://localhost:8080/"
        },
        "id": "rYdJAMWOulCq",
        "outputId": "73647eea-4d65-4ae0-e3db-d08837b62a35"
      },
      "execution_count": 2,
      "outputs": [
        {
          "output_type": "stream",
          "name": "stdout",
          "text": [
            "Media abbondanza: 23.5\n"
          ]
        }
      ]
    },
    {
      "cell_type": "code",
      "source": [
        "print(\"Specie sopra la media:\")\n",
        "for nome, abbondanza in specie_ab.items():\n",
        "    if abbondanza > media:\n",
        "        print(f\"- {nome}: {abbondanza}\")"
      ],
      "metadata": {
        "colab": {
          "base_uri": "https://localhost:8080/"
        },
        "id": "7l5XBPGduswp",
        "outputId": "891f7f47-3987-45dc-89e7-6b2c7429324f"
      },
      "execution_count": 3,
      "outputs": [
        {
          "output_type": "stream",
          "name": "stdout",
          "text": [
            "Specie sopra la media:\n",
            "- cervo: 30\n",
            "- cinghiale: 55\n"
          ]
        }
      ]
    },
    {
      "cell_type": "code",
      "source": [
        "sopra_media = [(nome, ab) for nome, ab in specie_ab.items() if ab > media]\n",
        "sopra_media_sorted = sorted(sopra_media, key=lambda x: x[1], reverse=True)\n",
        "\n",
        "print(\"Specie sopra la media (ordinate):\")\n",
        "for nome, ab in sopra_media_sorted:\n",
        "    print(f\"- {nome}: {ab}\")"
      ],
      "metadata": {
        "colab": {
          "base_uri": "https://localhost:8080/"
        },
        "id": "kCwRVvy2uvsA",
        "outputId": "ed28c8d1-3714-4134-c95c-60047233a645"
      },
      "execution_count": 4,
      "outputs": [
        {
          "output_type": "stream",
          "name": "stdout",
          "text": [
            "Specie sopra la media (ordinate):\n",
            "- cinghiale: 55\n",
            "- cervo: 30\n"
          ]
        }
      ]
    },
    {
      "cell_type": "code",
      "source": [],
      "metadata": {
        "id": "sfwgrhP0ux7w"
      },
      "execution_count": null,
      "outputs": []
    }
  ]
}