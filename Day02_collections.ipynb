{
  "nbformat": 4,
  "nbformat_minor": 0,
  "metadata": {
    "colab": {
      "provenance": [],
      "authorship_tag": "ABX9TyO2m0gUkbBErgPtldRMhQ8b",
      "include_colab_link": true
    },
    "kernelspec": {
      "name": "python3",
      "display_name": "Python 3"
    },
    "language_info": {
      "name": "python"
    }
  },
  "cells": [
    {
      "cell_type": "markdown",
      "metadata": {
        "id": "view-in-github",
        "colab_type": "text"
      },
      "source": [
        "<a href=\"https://colab.research.google.com/github/giuseppedonatellis/python-training/blob/main/Day02_collections.ipynb\" target=\"_parent\"><img src=\"https://colab.research.google.com/assets/colab-badge.svg\" alt=\"Open In Colab\"/></a>"
      ]
    },
    {
      "cell_type": "code",
      "execution_count": 1,
      "metadata": {
        "colab": {
          "base_uri": "https://localhost:8080/"
        },
        "id": "oUbpRbP3WqOJ",
        "outputId": "a2fbd61c-10af-4b27-833b-2d6b8ddaf4a8"
      },
      "outputs": [
        {
          "output_type": "stream",
          "name": "stdout",
          "text": [
            "lupo\n",
            "['lupo', 'volpe', 'orso', 'cervo']\n"
          ]
        }
      ],
      "source": [
        "specie = [\"lupo\", \"volpe\", \"orso\"]\n",
        "print(specie[0])       # primo elemento\n",
        "specie.append(\"cervo\") # aggiungo un elemento\n",
        "print(specie)"
      ]
    },
    {
      "cell_type": "code",
      "source": [
        "coordinate = (41.2, 14.8)\n",
        "print(coordinate[0])\n",
        "print(coordinate[1])"
      ],
      "metadata": {
        "colab": {
          "base_uri": "https://localhost:8080/"
        },
        "id": "cFV8G2d6W-qY",
        "outputId": "fd2a64d9-cc09-4ac1-921f-3a1670c7d6e0"
      },
      "execution_count": 2,
      "outputs": [
        {
          "output_type": "stream",
          "name": "stdout",
          "text": [
            "41.2\n",
            "14.8\n"
          ]
        }
      ]
    },
    {
      "cell_type": "code",
      "source": [
        "animali = {\"lupo\": 12, \"volpe\": 8, \"orso\": 3}\n",
        "print(animali[\"lupo\"])\n",
        "animali[\"cervo\"] = 5\n",
        "print(animali)"
      ],
      "metadata": {
        "colab": {
          "base_uri": "https://localhost:8080/"
        },
        "id": "ZnCybw3QXEJv",
        "outputId": "ea186846-a181-480b-ef4c-553e749c9887"
      },
      "execution_count": 3,
      "outputs": [
        {
          "output_type": "stream",
          "name": "stdout",
          "text": [
            "12\n",
            "{'lupo': 12, 'volpe': 8, 'orso': 3, 'cervo': 5}\n"
          ]
        }
      ]
    },
    {
      "cell_type": "code",
      "source": [
        "specie_animali = {\n",
        "    \"lupo\": 15,\n",
        "    \"volpe\": 22,\n",
        "    \"orso\": 7,\n",
        "    \"cervo\": 30\n",
        "}\n",
        "\n",
        "print(\"Abbondanza lupo:\", specie_animali[\"lupo\"])\n",
        "\n",
        "for nome, abbondanza in specie_animali.items():\n",
        "    if abbondanza > 10:\n",
        "        print(nome, \":\", abbondanza)"
      ],
      "metadata": {
        "colab": {
          "base_uri": "https://localhost:8080/"
        },
        "id": "iZNtixNWXH8W",
        "outputId": "eb428f01-8058-4de7-e029-4d6f1336c99f"
      },
      "execution_count": 4,
      "outputs": [
        {
          "output_type": "stream",
          "name": "stdout",
          "text": [
            "Abbondanza lupo: 15\n",
            "lupo : 15\n",
            "volpe : 22\n",
            "cervo : 30\n"
          ]
        }
      ]
    },
    {
      "cell_type": "code",
      "source": [],
      "metadata": {
        "id": "OC44vu3iXKIW"
      },
      "execution_count": null,
      "outputs": []
    }
  ]
}