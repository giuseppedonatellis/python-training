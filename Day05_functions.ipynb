{
  "nbformat": 4,
  "nbformat_minor": 0,
  "metadata": {
    "colab": {
      "provenance": [],
      "authorship_tag": "ABX9TyPLJwBYuh6KOxCDSD4Kis/b",
      "include_colab_link": true
    },
    "kernelspec": {
      "name": "python3",
      "display_name": "Python 3"
    },
    "language_info": {
      "name": "python"
    }
  },
  "cells": [
    {
      "cell_type": "markdown",
      "metadata": {
        "id": "view-in-github",
        "colab_type": "text"
      },
      "source": [
        "<a href=\"https://colab.research.google.com/github/giuseppedonatellis/python-training/blob/main/Day05_functions.ipynb\" target=\"_parent\"><img src=\"https://colab.research.google.com/assets/colab-badge.svg\" alt=\"Open In Colab\"/></a>"
      ]
    },
    {
      "cell_type": "code",
      "execution_count": 1,
      "metadata": {
        "colab": {
          "base_uri": "https://localhost:8080/"
        },
        "id": "dOvK9zqNo2wd",
        "outputId": "f580a81a-aa09-44ee-e6c2-bc8fedc130fb"
      },
      "outputs": [
        {
          "output_type": "stream",
          "name": "stdout",
          "text": [
            "Ciao Giuseppe!\n"
          ]
        }
      ],
      "source": [
        "def saluta(nome):\n",
        "    return f\"Ciao {nome}!\"\n",
        "\n",
        "print(saluta(\"Giuseppe\"))"
      ]
    },
    {
      "cell_type": "code",
      "source": [
        "# funzione senza parametri\n",
        "def saluto():\n",
        "    print(\"Benvenuto nel Giorno 5!\")\n",
        "\n",
        "saluto()\n",
        "\n",
        "# funzione con parametri\n",
        "def somma(a, b):\n",
        "    return a + b\n",
        "\n",
        "print(somma(3, 5))  # stampa 8"
      ],
      "metadata": {
        "colab": {
          "base_uri": "https://localhost:8080/"
        },
        "id": "Rykt0OWqpNZ3",
        "outputId": "5d09dcd0-d9d2-4ee1-a104-101405b47823"
      },
      "execution_count": 2,
      "outputs": [
        {
          "output_type": "stream",
          "name": "stdout",
          "text": [
            "Benvenuto nel Giorno 5!\n",
            "8\n"
          ]
        }
      ]
    },
    {
      "cell_type": "code",
      "source": [
        "def lunghezza_lista(lista):\n",
        "    return len(lista)\n",
        "\n",
        "animali = [\"lupo\", \"orso\", \"cervo\"]\n",
        "print(lunghezza_lista(animali))  # stampa 3"
      ],
      "metadata": {
        "colab": {
          "base_uri": "https://localhost:8080/"
        },
        "id": "S4QsuTpYpR8l",
        "outputId": "683ae57f-911d-4591-d05b-d16b28972306"
      },
      "execution_count": 3,
      "outputs": [
        {
          "output_type": "stream",
          "name": "stdout",
          "text": [
            "3\n"
          ]
        }
      ]
    },
    {
      "cell_type": "code",
      "source": [
        "def calcola_media(lista):\n",
        "    if len(lista) == 0:\n",
        "        return None  # evito divisione per zero\n",
        "    return sum(lista) / len(lista)\n",
        "\n",
        "# Test\n",
        "numeri = [10, 20, 30, 40]\n",
        "print(\"Lista:\", numeri)\n",
        "print(\"Media:\", calcola_media(numeri))"
      ],
      "metadata": {
        "colab": {
          "base_uri": "https://localhost:8080/"
        },
        "id": "-Ggi1TvRpVI1",
        "outputId": "81f876d0-1ce5-452d-b7ec-cc22215e9fc9"
      },
      "execution_count": 4,
      "outputs": [
        {
          "output_type": "stream",
          "name": "stdout",
          "text": [
            "Lista: [10, 20, 30, 40]\n",
            "Media: 25.0\n"
          ]
        }
      ]
    },
    {
      "cell_type": "code",
      "source": [],
      "metadata": {
        "id": "r6MrfeV5pYVd"
      },
      "execution_count": null,
      "outputs": []
    }
  ]
}